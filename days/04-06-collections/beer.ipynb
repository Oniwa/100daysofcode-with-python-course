{
 "cells": [
  {
   "cell_type": "code",
   "execution_count": 45,
   "metadata": {
    "collapsed": true
   },
   "outputs": [],
   "source": [
    "from collections import defaultdict, namedtuple, Counter\n",
    "import csv"
   ]
  },
  {
   "cell_type": "code",
   "execution_count": 30,
   "metadata": {},
   "outputs": [],
   "source": [
    "beer = namedtuple('beer', 'name style brewery_id')\n",
    "brew_name = namedtuple('brew_name', 'id name state')"
   ]
  },
  {
   "cell_type": "code",
   "execution_count": 31,
   "metadata": {},
   "outputs": [],
   "source": [
    "brewery_names = defaultdict(list)\n",
    "with open('breweries.csv') as f:\n",
    "    for line in csv.DictReader(f):\n",
    "        try:\n",
    "            id = line['']\n",
    "            name = line['name']\n",
    "            state = line['state']\n",
    "        except ValueError:\n",
    "            continue\n",
    "            \n",
    "        brew = brew_name(id=id, name=name, state=state) \n",
    "        brewery_names[id].append(brew)"
   ]
  },
  {
   "cell_type": "code",
   "execution_count": 35,
   "metadata": {},
   "outputs": [],
   "source": [
    "brewerys = defaultdict(list)\n",
    "with open('beers.csv') as f:\n",
    "    for line in csv.DictReader(f):\n",
    "        try:\n",
    "            brewery = line['brewery_id']\n",
    "            style = line['style']\n",
    "            name = line['name']\n",
    "        except ValueError:\n",
    "            continue\n",
    "        \n",
    "        b = beer(name=name, style=style, brewery_id=brewery)\n",
    "        \n",
    "        brewerys[brewery].append(b)\n",
    "\n"
   ]
  },
  {
   "cell_type": "code",
   "execution_count": 43,
   "metadata": {},
   "outputs": [
    {
     "name": "stdout",
     "output_type": "stream",
     "text": [
      "[beer(name='Blackbeard', style='American Double / Imperial Stout', brewery_id='5'), beer(name='Rye Knot', style='American Brown Ale', brewery_id='5'), beer(name='Dead Arm', style='American Pale Ale (APA)', brewery_id='5'), beer(name='32Â°/50Â° KÃ¶lsch ', style='KÃ¶lsch', brewery_id='5'), beer(name='HopArt', style='American IPA', brewery_id='5'), beer(name='Boy King', style='American Double / Imperial IPA', brewery_id='5')]\nCOAST Brewing Company\n"
     ]
    }
   ],
   "source": [
    "print(brewerys['5'])\n",
    "print(brewery_names['5'][0].name)"
   ]
  },
  {
   "cell_type": "code",
   "execution_count": 47,
   "metadata": {},
   "outputs": [
    {
     "data": {
      "text/plain": [
       "[('Brewery Vivant', 62),\n ('Oskar Blues Brewery', 46),\n ('Sun King Brewing Company', 38),\n ('Cigar City Brewing Company', 25),\n ('Sixpoint Craft Ales', 24)]"
      ]
     },
     "execution_count": 47,
     "metadata": {},
     "output_type": "execute_result"
    }
   ],
   "source": [
    "cnt = Counter()\n",
    "for brewery_id, name in brewerys.items():\n",
    "    cnt[brewery_names[brewery_id][0].name] += len(name)\n",
    "    \n",
    "cnt.most_common(5)"
   ]
  },
  {
   "cell_type": "code",
   "execution_count": 51,
   "metadata": {},
   "outputs": [
    {
     "data": {
      "text/plain": [
       "[('American IPA', 111),\n ('American Pale Ale (APA)', 63),\n ('American Amber / Red Ale', 29),\n ('American Blonde Ale', 25),\n ('American Double / Imperial IPA', 21)]"
      ]
     },
     "execution_count": 51,
     "metadata": {},
     "output_type": "execute_result"
    }
   ],
   "source": [
    "cnt2 = Counter()\n",
    "for brewery_id, beers in brewerys.items():\n",
    "    cnt2[beers[0].style] += 1\n",
    "\n",
    "cnt2.most_common(5)"
   ]
  },
  {
   "cell_type": "code",
   "execution_count": null,
   "metadata": {},
   "outputs": [],
   "source": []
  }
 ],
 "metadata": {
  "kernelspec": {
   "display_name": "Python 2",
   "language": "python",
   "name": "python2"
  },
  "language_info": {
   "codemirror_mode": {
    "name": "ipython",
    "version": 2
   },
   "file_extension": ".py",
   "mimetype": "text/x-python",
   "name": "python",
   "nbconvert_exporter": "python",
   "pygments_lexer": "ipython2",
   "version": "2.7.6"
  }
 },
 "nbformat": 4,
 "nbformat_minor": 0
}
